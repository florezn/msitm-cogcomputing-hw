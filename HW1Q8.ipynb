{
 "cells": [
  {
   "cell_type": "code",
   "execution_count": 1,
   "metadata": {
    "colab": {
     "base_uri": "https://localhost:8080/"
    },
    "id": "6Z4g8veCF_L2",
    "outputId": "f55c9795-a476-4b55-e9a3-6a079240c7ce"
   },
   "outputs": [],
   "source": [
    "# jupyter serverextension enable --sys-prefix voila "
   ]
  },
  {
   "cell_type": "code",
   "execution_count": 2,
   "metadata": {
    "id": "Mjj4eImeGhIl"
   },
   "outputs": [
    {
     "ename": "ModuleNotFoundError",
     "evalue": "No module named 'fastbook'",
     "output_type": "error",
     "traceback": [
      "\u001b[1;31m---------------------------------------------------------------------------\u001b[0m",
      "\u001b[1;31mModuleNotFoundError\u001b[0m                       Traceback (most recent call last)",
      "\u001b[1;32m<ipython-input-2-d7106e54b3a3>\u001b[0m in \u001b[0;36m<module>\u001b[1;34m\u001b[0m\n\u001b[1;32m----> 1\u001b[1;33m \u001b[1;32mimport\u001b[0m \u001b[0mfastbook\u001b[0m\u001b[1;33m\u001b[0m\u001b[1;33m\u001b[0m\u001b[0m\n\u001b[0m\u001b[0;32m      2\u001b[0m \u001b[1;32mimport\u001b[0m \u001b[0mpandas\u001b[0m \u001b[1;32mas\u001b[0m \u001b[0mpd\u001b[0m\u001b[1;33m\u001b[0m\u001b[1;33m\u001b[0m\u001b[0m\n\u001b[0;32m      3\u001b[0m \u001b[1;32mimport\u001b[0m \u001b[0mre\u001b[0m\u001b[1;33m\u001b[0m\u001b[1;33m\u001b[0m\u001b[0m\n\u001b[0;32m      4\u001b[0m \u001b[1;32mimport\u001b[0m \u001b[0mbs4\u001b[0m\u001b[1;33m\u001b[0m\u001b[1;33m\u001b[0m\u001b[0m\n\u001b[0;32m      5\u001b[0m \u001b[1;32mfrom\u001b[0m \u001b[0mfastai\u001b[0m\u001b[1;33m.\u001b[0m\u001b[0mtext\u001b[0m\u001b[1;33m.\u001b[0m\u001b[0mall\u001b[0m \u001b[1;32mimport\u001b[0m \u001b[1;33m*\u001b[0m\u001b[1;33m\u001b[0m\u001b[1;33m\u001b[0m\u001b[0m\n",
      "\u001b[1;31mModuleNotFoundError\u001b[0m: No module named 'fastbook'"
     ]
    }
   ],
   "source": [
    "import fastbook\n",
    "import pandas as pd\n",
    "import re\n",
    "import bs4\n",
    "from fastai.text.all import *\n",
    "import ipywidgets as widgets"
   ]
  },
  {
   "cell_type": "markdown",
   "metadata": {
    "id": "28v9Z7_rQCd-"
   },
   "source": [
    "# Getting Data + Processing"
   ]
  },
  {
   "cell_type": "code",
   "execution_count": null,
   "metadata": {
    "id": "mcz1_aTMGigZ"
   },
   "outputs": [],
   "source": [
    "# def text_processing(x): #cleans up the description text\n",
    "  \n",
    "#   x = x.lower()\n",
    "#   x = bs4.BeautifulSoup(x, \"lxml\").text\n",
    "#   x = x.encode('ascii', 'ignore').decode()\n",
    "#   x = re.sub(r'https*\\S+', ' ', x)\n",
    "#   x = re.sub(r'@\\S+', ' ', x)\n",
    "#   x = re.sub(r'#\\S+', ' ', x)\n",
    "#   x = re.sub(r'\\'\\w+', '', x)\n",
    "#   x = re.sub(r'\\w*\\d+\\w*', '', x)\n",
    "#   x = re.sub(r'\\s{2,}', ' ', x)\n",
    "#   return x \n",
    "\n",
    "# def read_df(filename, genre): #reads the data from 3 different files\n",
    "\n",
    "#   df = pd.read_csv(filename, index_col=0)\n",
    "#   df.drop(df.index[df['language'] != 'eng'], inplace=True) #keeps only english \n",
    "#   df.dropna(subset=['description'], inplace=True) # drops if no description\n",
    "\n",
    "#   cols_to_keep = ['title', 'author', 'description']\n",
    "#   df = df[cols_to_keep]\n",
    "\n",
    "#   df['description'] = df.description.apply(text_processing)\n",
    "#   df['genre'] = genre\n",
    "\n",
    "#   return df\n",
    "\n"
   ]
  },
  {
   "cell_type": "code",
   "execution_count": null,
   "metadata": {
    "id": "E2S3UFDKGxsy"
   },
   "outputs": [],
   "source": [
    "# read data\n",
    "\n",
    "# data = pd.DataFrame()\n",
    "# data_genre = {'mystery': 'gr_df_mystery.csv',\n",
    "#               'sicfi': 'gr_df_sf.csv',\n",
    "#               'YA': 'gr_df_ya.csv'}\n",
    "\n",
    "# for genre, filename in data_genre.items():\n",
    "\n",
    "#   df = read_df(filename, genre)\n",
    "#   data = pd.concat([data, df])\n"
   ]
  },
  {
   "cell_type": "code",
   "execution_count": null,
   "metadata": {
    "colab": {
     "base_uri": "https://localhost:8080/",
     "height": 640
    },
    "id": "pAiuAGXtM3bA",
    "outputId": "bedecb59-96e0-4c50-f5a7-ad6f265f2982"
   },
   "outputs": [],
   "source": [
    "# data.tail()"
   ]
  },
  {
   "cell_type": "markdown",
   "metadata": {
    "id": "g4njivZ2QlB0"
   },
   "source": [
    "# AI Setup"
   ]
  },
  {
   "cell_type": "code",
   "execution_count": null,
   "metadata": {
    "colab": {
     "base_uri": "https://localhost:8080/",
     "height": 74
    },
    "id": "SD_lKsbwN6RW",
    "outputId": "1adc338f-2ac7-4340-e046-a07271d587ca"
   },
   "outputs": [],
   "source": [
    "# dls = TextDataLoaders.from_df(data, text_col='description', label_col='genre')"
   ]
  },
  {
   "cell_type": "code",
   "execution_count": null,
   "metadata": {
    "colab": {
     "base_uri": "https://localhost:8080/",
     "height": 404
    },
    "id": "RyzeGvHrRIv0",
    "outputId": "dba4e8d5-fcf7-492f-f7ef-83d965d9abf8"
   },
   "outputs": [],
   "source": [
    "# dls.show_batch(max_n=3)\n",
    "\n",
    "# We can see that the library automatically processed all the texts to split then in tokens, adding some special tokens like:\n",
    "\n",
    "#     xxbos to indicate the beginning of a text\n",
    "#     xxmaj to indicate the next word was capitalized\n"
   ]
  },
  {
   "cell_type": "code",
   "execution_count": null,
   "metadata": {
    "colab": {
     "base_uri": "https://localhost:8080/",
     "height": 17
    },
    "id": "ZmthgNkJRn4_",
    "outputId": "faef34ed-974a-45ca-e374-6fe1407d59f5"
   },
   "outputs": [],
   "source": [
    "# learn = text_classifier_learner(dls, AWD_LSTM, drop_mult=0.5, metrics=accuracy)"
   ]
  },
  {
   "cell_type": "code",
   "execution_count": null,
   "metadata": {
    "colab": {
     "base_uri": "https://localhost:8080/",
     "height": 239
    },
    "id": "bwVnt4xeRy6u",
    "outputId": "d2b32d22-cc10-4f47-ba5d-a98d94253bae"
   },
   "outputs": [],
   "source": [
    "# learn.fine_tune(4, 1e-2)"
   ]
  },
  {
   "cell_type": "code",
   "execution_count": null,
   "metadata": {
    "id": "FoBY4zU7VEtd"
   },
   "outputs": [],
   "source": [
    "# learn.export()"
   ]
  },
  {
   "cell_type": "markdown",
   "metadata": {
    "id": "sicBVlHEfSme"
   },
   "source": [
    "# App\n",
    "\n",
    "To test, the learner, we provide this sample book description:\n",
    "<br>\n",
    "<br>\n",
    "When Abby signs up for a DNA service, it’s mainly to give her friend and secret love interest, Leo, a nudge. After all, she knows who she is already: Avid photographer. Injury-prone tree climber. Best friend to Leo and Connie…although ever since the B.E.I. (Big Embarrassing Incident) with Leo, things have been awkward on that front. But she didn’t know she’s a younger sister. When the DNA service reveals Abby has a secret sister, shimmery-haired Instagram star Savannah Tully, it’s hard to believe they’re from the same planet, never mind the same parents — especially considering Savannah, queen of green smoothies, is only a year and a half older than Abby herself. The logical course of action? Meet up at summer camp (obviously) and figure out why Abby’s parents gave Savvy up for adoption. But there are complications: Savvy is a rigid rule-follower and total narc. Leo is the camp’s co-chef, putting Abby's growing feelings for him on blast. And her parents have a secret that threatens to unravel everything. But part of life is showing up, leaning in, and learning to fit all your awkward pieces together. Because sometimes, the hardest things can also be the best ones.\n",
    "<br>\n",
    "<br>\n",
    " From https://www.goodreads.com/book/show/53138158-you-have-a-match"
   ]
  },
  {
   "cell_type": "code",
   "execution_count": null,
   "metadata": {},
   "outputs": [],
   "source": [
    "# Download export.pkl\n",
    "url = 'https://utexas.box.com/shared/static/igounsdf3z7lp6kednla79o379f4newe.pkl'\n",
    "\n",
    "import urllib.request\n",
    "\n",
    "print('Beginning file download with urllib2...')\n",
    "\n",
    "urllib.request.urlretrieve(url, 'export.pkl')"
   ]
  },
  {
   "cell_type": "code",
   "execution_count": null,
   "metadata": {
    "id": "BQAubuVmh1Ny"
   },
   "outputs": [],
   "source": [
    "def callback(wdgt):\n",
    "    pred, pred_idx, probs = learn_inf.predict(book_desc.value)\n",
    "    print(f\"Our learner has predicted the books description to be of a {pred} book with probabilty {probs[pred_idx]}\")"
   ]
  },
  {
   "cell_type": "code",
   "execution_count": null,
   "metadata": {
    "id": "756g_0pCfkDT"
   },
   "outputs": [],
   "source": [
    "#load learner\n",
    "learn_inf = load_learner('export.pkl')"
   ]
  },
  {
   "cell_type": "code",
   "execution_count": null,
   "metadata": {
    "colab": {
     "base_uri": "https://localhost:8080/",
     "height": 88,
     "referenced_widgets": [
      "7cf836c4b1ea4f6ebc77cf20b6bee763",
      "b9190975c16846c0a0f7ff7cafae501f",
      "95ac45bf6ff64079a106fa0df5fbe9c0"
     ]
    },
    "id": "6i2g3q69fWIS",
    "outputId": "d1cb6b9d-d6b3-46b2-e939-94bdbf002ea3"
   },
   "outputs": [],
   "source": [
    "#define widget for interactivity\n",
    "book_desc = widgets.Text(\n",
    "    value='Type in a book description!',\n",
    "    placeholder='Type something',\n",
    "    description='Input:',\n",
    "    disabled=False\n",
    ")\n",
    "display(book_desc)\n",
    "book_desc.on_submit(callback)"
   ]
  },
  {
   "cell_type": "code",
   "execution_count": null,
   "metadata": {},
   "outputs": [],
   "source": []
  }
 ],
 "metadata": {
  "accelerator": "GPU",
  "colab": {
   "collapsed_sections": [],
   "name": "HW1Q8.ipynb",
   "provenance": [],
   "toc_visible": true
  },
  "kernelspec": {
   "display_name": "Python 3",
   "language": "python",
   "name": "python3"
  },
  "widgets": {
   "application/vnd.jupyter.widget-state+json": {
    "7cf836c4b1ea4f6ebc77cf20b6bee763": {
     "model_module": "@jupyter-widgets/controls",
     "model_name": "TextModel",
     "state": {
      "_dom_classes": [],
      "_model_module": "@jupyter-widgets/controls",
      "_model_module_version": "1.5.0",
      "_model_name": "TextModel",
      "_view_count": null,
      "_view_module": "@jupyter-widgets/controls",
      "_view_module_version": "1.5.0",
      "_view_name": "TextView",
      "continuous_update": true,
      "description": "Input:",
      "description_tooltip": null,
      "disabled": false,
      "layout": "IPY_MODEL_95ac45bf6ff64079a106fa0df5fbe9c0",
      "placeholder": "Type something",
      "style": "IPY_MODEL_b9190975c16846c0a0f7ff7cafae501f",
      "value": "When Abby signs up for a DNA service, it’s mainly to give her friend and secret love interest, Leo, a nudge. After all, she knows who she is already: Avid photographer. Injury-prone tree climber. Best friend to Leo and Connie…although ever since the B.E.I. (Big Embarrassing Incident) with Leo, things have been awkward on that front. But she didn’t know she’s a younger sister. When the DNA service reveals Abby has a secret sister, shimmery-haired Instagram star Savannah Tully, it’s hard to believe they’re from the same planet, never mind the same parents — especially considering Savannah, queen of green smoothies, is only a year and a half older than Abby herself. The logical course of action? Meet up at summer camp (obviously) and figure out why Abby’s parents gave Savvy up for adoption. But there are complications: Savvy is a rigid rule-follower and total narc. Leo is the camp’s co-chef, putting Abby's growing feelings for him on blast. And her parents have a secret that threatens to unravel everything. But part of life is showing up, leaning in, and learning to fit all your awkward pieces together. Because sometimes, the hardest things can also be the best ones."
     }
    },
    "95ac45bf6ff64079a106fa0df5fbe9c0": {
     "model_module": "@jupyter-widgets/base",
     "model_name": "LayoutModel",
     "state": {
      "_model_module": "@jupyter-widgets/base",
      "_model_module_version": "1.2.0",
      "_model_name": "LayoutModel",
      "_view_count": null,
      "_view_module": "@jupyter-widgets/base",
      "_view_module_version": "1.2.0",
      "_view_name": "LayoutView",
      "align_content": null,
      "align_items": null,
      "align_self": null,
      "border": null,
      "bottom": null,
      "display": null,
      "flex": null,
      "flex_flow": null,
      "grid_area": null,
      "grid_auto_columns": null,
      "grid_auto_flow": null,
      "grid_auto_rows": null,
      "grid_column": null,
      "grid_gap": null,
      "grid_row": null,
      "grid_template_areas": null,
      "grid_template_columns": null,
      "grid_template_rows": null,
      "height": null,
      "justify_content": null,
      "justify_items": null,
      "left": null,
      "margin": null,
      "max_height": null,
      "max_width": null,
      "min_height": null,
      "min_width": null,
      "object_fit": null,
      "object_position": null,
      "order": null,
      "overflow": null,
      "overflow_x": null,
      "overflow_y": null,
      "padding": null,
      "right": null,
      "top": null,
      "visibility": null,
      "width": null
     }
    },
    "b9190975c16846c0a0f7ff7cafae501f": {
     "model_module": "@jupyter-widgets/controls",
     "model_name": "DescriptionStyleModel",
     "state": {
      "_model_module": "@jupyter-widgets/controls",
      "_model_module_version": "1.5.0",
      "_model_name": "DescriptionStyleModel",
      "_view_count": null,
      "_view_module": "@jupyter-widgets/base",
      "_view_module_version": "1.2.0",
      "_view_name": "StyleView",
      "description_width": ""
     }
    }
   }
  }
 },
 "nbformat": 4,
 "nbformat_minor": 1
}
