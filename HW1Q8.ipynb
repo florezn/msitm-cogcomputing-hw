{
  "nbformat": 4,
  "nbformat_minor": 0,
  "metadata": {
    "colab": {
      "name": "HW1Q8.ipynb",
      "provenance": [],
      "collapsed_sections": [],
      "toc_visible": true
    },
    "kernelspec": {
      "name": "python3",
      "display_name": "Python 3"
    },
    "accelerator": "GPU",
    "widgets": {
      "application/vnd.jupyter.widget-state+json": {
        "7cf836c4b1ea4f6ebc77cf20b6bee763": {
          "model_module": "@jupyter-widgets/controls",
          "model_name": "TextModel",
          "state": {
            "_view_name": "TextView",
            "style": "IPY_MODEL_b9190975c16846c0a0f7ff7cafae501f",
            "_dom_classes": [],
            "description": "Input:",
            "_model_name": "TextModel",
            "placeholder": "Type something",
            "_view_module": "@jupyter-widgets/controls",
            "_model_module_version": "1.5.0",
            "value": "When Abby signs up for a DNA service, it’s mainly to give her friend and secret love interest, Leo, a nudge. After all, she knows who she is already: Avid photographer. Injury-prone tree climber. Best friend to Leo and Connie…although ever since the B.E.I. (Big Embarrassing Incident) with Leo, things have been awkward on that front. But she didn’t know she’s a younger sister. When the DNA service reveals Abby has a secret sister, shimmery-haired Instagram star Savannah Tully, it’s hard to believe they’re from the same planet, never mind the same parents — especially considering Savannah, queen of green smoothies, is only a year and a half older than Abby herself. The logical course of action? Meet up at summer camp (obviously) and figure out why Abby’s parents gave Savvy up for adoption. But there are complications: Savvy is a rigid rule-follower and total narc. Leo is the camp’s co-chef, putting Abby's growing feelings for him on blast. And her parents have a secret that threatens to unravel everything. But part of life is showing up, leaning in, and learning to fit all your awkward pieces together. Because sometimes, the hardest things can also be the best ones.",
            "_view_count": null,
            "disabled": false,
            "_view_module_version": "1.5.0",
            "continuous_update": true,
            "description_tooltip": null,
            "_model_module": "@jupyter-widgets/controls",
            "layout": "IPY_MODEL_95ac45bf6ff64079a106fa0df5fbe9c0"
          }
        },
        "b9190975c16846c0a0f7ff7cafae501f": {
          "model_module": "@jupyter-widgets/controls",
          "model_name": "DescriptionStyleModel",
          "state": {
            "_view_name": "StyleView",
            "_model_name": "DescriptionStyleModel",
            "description_width": "",
            "_view_module": "@jupyter-widgets/base",
            "_model_module_version": "1.5.0",
            "_view_count": null,
            "_view_module_version": "1.2.0",
            "_model_module": "@jupyter-widgets/controls"
          }
        },
        "95ac45bf6ff64079a106fa0df5fbe9c0": {
          "model_module": "@jupyter-widgets/base",
          "model_name": "LayoutModel",
          "state": {
            "_view_name": "LayoutView",
            "grid_template_rows": null,
            "right": null,
            "justify_content": null,
            "_view_module": "@jupyter-widgets/base",
            "overflow": null,
            "_model_module_version": "1.2.0",
            "_view_count": null,
            "flex_flow": null,
            "width": null,
            "min_width": null,
            "border": null,
            "align_items": null,
            "bottom": null,
            "_model_module": "@jupyter-widgets/base",
            "top": null,
            "grid_column": null,
            "overflow_y": null,
            "overflow_x": null,
            "grid_auto_flow": null,
            "grid_area": null,
            "grid_template_columns": null,
            "flex": null,
            "_model_name": "LayoutModel",
            "justify_items": null,
            "grid_row": null,
            "max_height": null,
            "align_content": null,
            "visibility": null,
            "align_self": null,
            "height": null,
            "min_height": null,
            "padding": null,
            "grid_auto_rows": null,
            "grid_gap": null,
            "max_width": null,
            "order": null,
            "_view_module_version": "1.2.0",
            "grid_template_areas": null,
            "object_position": null,
            "object_fit": null,
            "grid_auto_columns": null,
            "margin": null,
            "display": null,
            "left": null
          }
        }
      }
    }
  },
  "cells": [
    {
      "cell_type": "code",
      "metadata": {
        "colab": {
          "base_uri": "https://localhost:8080/"
        },
        "id": "6Z4g8veCF_L2",
        "outputId": "f55c9795-a476-4b55-e9a3-6a079240c7ce"
      },
      "source": [
        "!pip install -Uqq fastbook\r\n",
        "!pip install voila\r\n",
        "!jupyter serverextension enable --sys-prefix voila "
      ],
      "execution_count": 1,
      "outputs": [
        {
          "output_type": "stream",
          "text": [
            "\u001b[?25l\r\u001b[K     |▊                               | 10kB 29.8MB/s eta 0:00:01\r\u001b[K     |█▍                              | 20kB 34.6MB/s eta 0:00:01\r\u001b[K     |██▏                             | 30kB 21.6MB/s eta 0:00:01\r\u001b[K     |██▉                             | 40kB 24.3MB/s eta 0:00:01\r\u001b[K     |███▋                            | 51kB 24.3MB/s eta 0:00:01\r\u001b[K     |████▎                           | 61kB 26.9MB/s eta 0:00:01\r\u001b[K     |█████                           | 71kB 17.7MB/s eta 0:00:01\r\u001b[K     |█████▊                          | 81kB 18.9MB/s eta 0:00:01\r\u001b[K     |██████▌                         | 92kB 17.8MB/s eta 0:00:01\r\u001b[K     |███████▏                        | 102kB 17.7MB/s eta 0:00:01\r\u001b[K     |████████                        | 112kB 17.7MB/s eta 0:00:01\r\u001b[K     |████████▋                       | 122kB 17.7MB/s eta 0:00:01\r\u001b[K     |█████████▍                      | 133kB 17.7MB/s eta 0:00:01\r\u001b[K     |██████████                      | 143kB 17.7MB/s eta 0:00:01\r\u001b[K     |██████████▉                     | 153kB 17.7MB/s eta 0:00:01\r\u001b[K     |███████████▌                    | 163kB 17.7MB/s eta 0:00:01\r\u001b[K     |████████████▎                   | 174kB 17.7MB/s eta 0:00:01\r\u001b[K     |█████████████                   | 184kB 17.7MB/s eta 0:00:01\r\u001b[K     |█████████████▊                  | 194kB 17.7MB/s eta 0:00:01\r\u001b[K     |██████████████▍                 | 204kB 17.7MB/s eta 0:00:01\r\u001b[K     |███████████████▏                | 215kB 17.7MB/s eta 0:00:01\r\u001b[K     |███████████████▉                | 225kB 17.7MB/s eta 0:00:01\r\u001b[K     |████████████████▋               | 235kB 17.7MB/s eta 0:00:01\r\u001b[K     |█████████████████▎              | 245kB 17.7MB/s eta 0:00:01\r\u001b[K     |██████████████████              | 256kB 17.7MB/s eta 0:00:01\r\u001b[K     |██████████████████▊             | 266kB 17.7MB/s eta 0:00:01\r\u001b[K     |███████████████████▍            | 276kB 17.7MB/s eta 0:00:01\r\u001b[K     |████████████████████▏           | 286kB 17.7MB/s eta 0:00:01\r\u001b[K     |████████████████████▉           | 296kB 17.7MB/s eta 0:00:01\r\u001b[K     |█████████████████████▋          | 307kB 17.7MB/s eta 0:00:01\r\u001b[K     |██████████████████████▎         | 317kB 17.7MB/s eta 0:00:01\r\u001b[K     |███████████████████████         | 327kB 17.7MB/s eta 0:00:01\r\u001b[K     |███████████████████████▊        | 337kB 17.7MB/s eta 0:00:01\r\u001b[K     |████████████████████████▌       | 348kB 17.7MB/s eta 0:00:01\r\u001b[K     |█████████████████████████▏      | 358kB 17.7MB/s eta 0:00:01\r\u001b[K     |██████████████████████████      | 368kB 17.7MB/s eta 0:00:01\r\u001b[K     |██████████████████████████▋     | 378kB 17.7MB/s eta 0:00:01\r\u001b[K     |███████████████████████████▍    | 389kB 17.7MB/s eta 0:00:01\r\u001b[K     |████████████████████████████    | 399kB 17.7MB/s eta 0:00:01\r\u001b[K     |████████████████████████████▉   | 409kB 17.7MB/s eta 0:00:01\r\u001b[K     |█████████████████████████████▌  | 419kB 17.7MB/s eta 0:00:01\r\u001b[K     |██████████████████████████████▎ | 430kB 17.7MB/s eta 0:00:01\r\u001b[K     |███████████████████████████████ | 440kB 17.7MB/s eta 0:00:01\r\u001b[K     |███████████████████████████████▊| 450kB 17.7MB/s eta 0:00:01\r\u001b[K     |████████████████████████████████| 460kB 17.7MB/s \n",
            "\u001b[31mERROR: voila 0.2.7 has requirement nbconvert<7,>=6.0.0, but you'll have nbconvert 5.6.1 which is incompatible.\u001b[0m\n",
            "\u001b[31mERROR: jupyter-server 1.4.1 has requirement tornado>=6.1.0, but you'll have tornado 5.1.1 which is incompatible.\u001b[0m\n",
            "\u001b[?25hRequirement already satisfied: voila in /usr/local/lib/python3.7/dist-packages (0.2.7)\n",
            "Requirement already satisfied: jupyter-client<7,>=6.1.3 in /usr/local/lib/python3.7/dist-packages (from voila) (6.1.11)\n",
            "Requirement already satisfied: jupyter-server<2.0.0,>=0.3.0 in /usr/local/lib/python3.7/dist-packages (from voila) (1.4.1)\n",
            "Collecting nbconvert<7,>=6.0.0\n",
            "  Using cached https://files.pythonhosted.org/packages/13/2f/acbe7006548f3914456ee47f97a2033b1b2f3daf921b12ac94105d87c163/nbconvert-6.0.7-py3-none-any.whl\n",
            "Requirement already satisfied: nbclient<0.6,>=0.4.0 in /usr/local/lib/python3.7/dist-packages (from voila) (0.5.2)\n",
            "Requirement already satisfied: pyzmq>=13 in /usr/local/lib/python3.7/dist-packages (from jupyter-client<7,>=6.1.3->voila) (22.0.3)\n",
            "Requirement already satisfied: jupyter-core>=4.6.0 in /usr/local/lib/python3.7/dist-packages (from jupyter-client<7,>=6.1.3->voila) (4.7.1)\n",
            "Requirement already satisfied: python-dateutil>=2.1 in /usr/local/lib/python3.7/dist-packages (from jupyter-client<7,>=6.1.3->voila) (2.8.1)\n",
            "Requirement already satisfied: traitlets in /usr/local/lib/python3.7/dist-packages (from jupyter-client<7,>=6.1.3->voila) (5.0.5)\n",
            "Requirement already satisfied: tornado>=4.1 in /usr/local/lib/python3.7/dist-packages (from jupyter-client<7,>=6.1.3->voila) (5.1.1)\n",
            "Requirement already satisfied: anyio>=2.0.2 in /usr/local/lib/python3.7/dist-packages (from jupyter-server<2.0.0,>=0.3.0->voila) (2.2.0)\n",
            "Requirement already satisfied: Send2Trash in /usr/local/lib/python3.7/dist-packages (from jupyter-server<2.0.0,>=0.3.0->voila) (1.5.0)\n",
            "Requirement already satisfied: terminado>=0.8.3 in /usr/local/lib/python3.7/dist-packages (from jupyter-server<2.0.0,>=0.3.0->voila) (0.9.2)\n",
            "Requirement already satisfied: jinja2 in /usr/local/lib/python3.7/dist-packages (from jupyter-server<2.0.0,>=0.3.0->voila) (2.11.3)\n",
            "Requirement already satisfied: nbformat in /usr/local/lib/python3.7/dist-packages (from jupyter-server<2.0.0,>=0.3.0->voila) (5.1.2)\n",
            "Requirement already satisfied: prometheus-client in /usr/local/lib/python3.7/dist-packages (from jupyter-server<2.0.0,>=0.3.0->voila) (0.9.0)\n",
            "Requirement already satisfied: ipython-genutils in /usr/local/lib/python3.7/dist-packages (from jupyter-server<2.0.0,>=0.3.0->voila) (0.2.0)\n",
            "Requirement already satisfied: bleach in /usr/local/lib/python3.7/dist-packages (from nbconvert<7,>=6.0.0->voila) (3.3.0)\n",
            "Requirement already satisfied: entrypoints>=0.2.2 in /usr/local/lib/python3.7/dist-packages (from nbconvert<7,>=6.0.0->voila) (0.3)\n",
            "Requirement already satisfied: defusedxml in /usr/local/lib/python3.7/dist-packages (from nbconvert<7,>=6.0.0->voila) (0.6.0)\n",
            "Requirement already satisfied: testpath in /usr/local/lib/python3.7/dist-packages (from nbconvert<7,>=6.0.0->voila) (0.4.4)\n",
            "Requirement already satisfied: mistune<2,>=0.8.1 in /usr/local/lib/python3.7/dist-packages (from nbconvert<7,>=6.0.0->voila) (0.8.4)\n",
            "Requirement already satisfied: pandocfilters>=1.4.1 in /usr/local/lib/python3.7/dist-packages (from nbconvert<7,>=6.0.0->voila) (1.4.3)\n",
            "Requirement already satisfied: pygments>=2.4.1 in /usr/local/lib/python3.7/dist-packages (from nbconvert<7,>=6.0.0->voila) (2.6.1)\n",
            "Requirement already satisfied: jupyterlab-pygments in /usr/local/lib/python3.7/dist-packages (from nbconvert<7,>=6.0.0->voila) (0.1.2)\n",
            "Requirement already satisfied: async-generator in /usr/local/lib/python3.7/dist-packages (from nbclient<0.6,>=0.4.0->voila) (1.10)\n",
            "Requirement already satisfied: nest-asyncio in /usr/local/lib/python3.7/dist-packages (from nbclient<0.6,>=0.4.0->voila) (1.5.1)\n",
            "Requirement already satisfied: six>=1.5 in /usr/local/lib/python3.7/dist-packages (from python-dateutil>=2.1->jupyter-client<7,>=6.1.3->voila) (1.15.0)\n",
            "Requirement already satisfied: idna>=2.8 in /usr/local/lib/python3.7/dist-packages (from anyio>=2.0.2->jupyter-server<2.0.0,>=0.3.0->voila) (2.10)\n",
            "Requirement already satisfied: sniffio>=1.1 in /usr/local/lib/python3.7/dist-packages (from anyio>=2.0.2->jupyter-server<2.0.0,>=0.3.0->voila) (1.2.0)\n",
            "Requirement already satisfied: typing-extensions; python_version < \"3.8\" in /usr/local/lib/python3.7/dist-packages (from anyio>=2.0.2->jupyter-server<2.0.0,>=0.3.0->voila) (3.7.4.3)\n",
            "Requirement already satisfied: ptyprocess; os_name != \"nt\" in /usr/local/lib/python3.7/dist-packages (from terminado>=0.8.3->jupyter-server<2.0.0,>=0.3.0->voila) (0.7.0)\n",
            "Requirement already satisfied: MarkupSafe>=0.23 in /usr/local/lib/python3.7/dist-packages (from jinja2->jupyter-server<2.0.0,>=0.3.0->voila) (1.1.1)\n",
            "Requirement already satisfied: jsonschema!=2.5.0,>=2.4 in /usr/local/lib/python3.7/dist-packages (from nbformat->jupyter-server<2.0.0,>=0.3.0->voila) (2.6.0)\n",
            "Requirement already satisfied: webencodings in /usr/local/lib/python3.7/dist-packages (from bleach->nbconvert<7,>=6.0.0->voila) (0.5.1)\n",
            "Requirement already satisfied: packaging in /usr/local/lib/python3.7/dist-packages (from bleach->nbconvert<7,>=6.0.0->voila) (20.9)\n",
            "Requirement already satisfied: pyparsing>=2.0.2 in /usr/local/lib/python3.7/dist-packages (from packaging->bleach->nbconvert<7,>=6.0.0->voila) (2.4.7)\n",
            "\u001b[31mERROR: nbdev 1.1.13 has requirement nbconvert<6, but you'll have nbconvert 6.0.7 which is incompatible.\u001b[0m\n",
            "\u001b[31mERROR: jupyter-server 1.4.1 has requirement tornado>=6.1.0, but you'll have tornado 5.1.1 which is incompatible.\u001b[0m\n",
            "Installing collected packages: nbconvert\n",
            "  Found existing installation: nbconvert 5.6.1\n",
            "    Uninstalling nbconvert-5.6.1:\n",
            "      Successfully uninstalled nbconvert-5.6.1\n",
            "Successfully installed nbconvert-6.0.7\n",
            "Enabling: voila\n",
            "- Writing config: /usr/etc/jupyter\n",
            "    - Validating...\n",
            "Error loading server extension voila\n",
            "     \u001b[31m X\u001b[0m is voila importable?\n"
          ],
          "name": "stdout"
        }
      ]
    },
    {
      "cell_type": "code",
      "metadata": {
        "id": "Mjj4eImeGhIl"
      },
      "source": [
        "import fastbook\r\n",
        "import pandas as pd\r\n",
        "import re\r\n",
        "import bs4\r\n",
        "from fastai.text.all import *\r\n",
        "import ipywidgets as widgets"
      ],
      "execution_count": 2,
      "outputs": []
    },
    {
      "cell_type": "markdown",
      "metadata": {
        "id": "28v9Z7_rQCd-"
      },
      "source": [
        "# Getting Data + Processing"
      ]
    },
    {
      "cell_type": "code",
      "metadata": {
        "id": "mcz1_aTMGigZ"
      },
      "source": [
        "def text_processing(x): #cleans up the description text\r\n",
        "  \r\n",
        "  x = x.lower()\r\n",
        "  x = bs4.BeautifulSoup(x, \"lxml\").text\r\n",
        "  x = x.encode('ascii', 'ignore').decode()\r\n",
        "  x = re.sub(r'https*\\S+', ' ', x)\r\n",
        "  x = re.sub(r'@\\S+', ' ', x)\r\n",
        "  x = re.sub(r'#\\S+', ' ', x)\r\n",
        "  x = re.sub(r'\\'\\w+', '', x)\r\n",
        "  x = re.sub(r'\\w*\\d+\\w*', '', x)\r\n",
        "  x = re.sub(r'\\s{2,}', ' ', x)\r\n",
        "  return x \r\n",
        "\r\n",
        "def read_df(filename, genre): #reads the data from 3 different files\r\n",
        "\r\n",
        "  df = pd.read_csv(filename, index_col=0)\r\n",
        "  df.drop(df.index[df['language'] != 'eng'], inplace=True) #keeps only english \r\n",
        "  df.dropna(subset=['description'], inplace=True) # drops if no description\r\n",
        "\r\n",
        "  cols_to_keep = ['title', 'author', 'description']\r\n",
        "  df = df[cols_to_keep]\r\n",
        "\r\n",
        "  df['description'] = df.description.apply(text_processing)\r\n",
        "  df['genre'] = genre\r\n",
        "\r\n",
        "  return df\r\n",
        "\r\n"
      ],
      "execution_count": 3,
      "outputs": []
    },
    {
      "cell_type": "code",
      "metadata": {
        "id": "E2S3UFDKGxsy"
      },
      "source": [
        "# read data\r\n",
        "\r\n",
        "data = pd.DataFrame()\r\n",
        "data_genre = {'mystery': 'gr_df_mystery.csv',\r\n",
        "              'sicfi': 'gr_df_sf.csv',\r\n",
        "              'YA': 'gr_df_ya.csv'}\r\n",
        "\r\n",
        "for genre, filename in data_genre.items():\r\n",
        "\r\n",
        "  df = read_df(filename, genre)\r\n",
        "  data = pd.concat([data, df])\r\n"
      ],
      "execution_count": 4,
      "outputs": []
    },
    {
      "cell_type": "code",
      "metadata": {
        "colab": {
          "base_uri": "https://localhost:8080/",
          "height": 640
        },
        "id": "pAiuAGXtM3bA",
        "outputId": "bedecb59-96e0-4c50-f5a7-ad6f265f2982"
      },
      "source": [
        "data.tail()"
      ],
      "execution_count": 5,
      "outputs": [
        {
          "output_type": "execute_result",
          "data": {
            "text/html": [
              "<div>\n",
              "<style scoped>\n",
              "    .dataframe tbody tr th:only-of-type {\n",
              "        vertical-align: middle;\n",
              "    }\n",
              "\n",
              "    .dataframe tbody tr th {\n",
              "        vertical-align: top;\n",
              "    }\n",
              "\n",
              "    .dataframe thead th {\n",
              "        text-align: right;\n",
              "    }\n",
              "</style>\n",
              "<table border=\"1\" class=\"dataframe\">\n",
              "  <thead>\n",
              "    <tr style=\"text-align: right;\">\n",
              "      <th></th>\n",
              "      <th>title</th>\n",
              "      <th>author</th>\n",
              "      <th>description</th>\n",
              "      <th>genre</th>\n",
              "    </tr>\n",
              "  </thead>\n",
              "  <tbody>\n",
              "    <tr>\n",
              "      <th>5191</th>\n",
              "      <td>The Devil's Triangle (The Devil's Triangle, #1)</td>\n",
              "      <td>Toni De Palma</td>\n",
              "      <td>when year old cooper dies in an attempt to burn down his school, he finds himself in the afterlife. lucy, the devil sister who has crossed party lines, decides to give cooper another shot at heaven. the deal? cooper returns to earth and has to find a girl named grace. the rest is up to him.while cooper figures out his mission, he thrown into the life he always wanted. great parents, a spot on the varsity football team and a real future are all within reach. but what he really wants is grace, a feisty girl with an abusive boyfriend who can pound cooper into pulp if he doesn watch out.while ...</td>\n",
              "      <td>YA</td>\n",
              "    </tr>\n",
              "    <tr>\n",
              "      <th>5193</th>\n",
              "      <td>TRANSITION, The Chimera Hunters Series</td>\n",
              "      <td>Megan S. Johnston</td>\n",
              "      <td>the chimera are a race so old, the humans relegated them as a myth. the gods feared the chimeras powers; they believed they were a deadly race, with physical abilities beyond belief. so, they split their race in half condemning them to wander the earth, searching for their other half to be complete. without their sodalis, each was destined to live life without dreams, without love, without hope. the future rested on finding their one true mate for life. shelby oneil has led a solitary life with her parents. so when she goes to school at washington state university, she believes her life ha...</td>\n",
              "      <td>YA</td>\n",
              "    </tr>\n",
              "    <tr>\n",
              "      <th>5196</th>\n",
              "      <td>Eleventh Elementum (The Primortus Chronicles, #1)</td>\n",
              "      <td>J.L. Bond</td>\n",
              "      <td>it has begun! fourteen years after a catastrophic disaster, the world has regained its balance with the help of the primortus. they have secretly walked amongst us since the beginning of time, protecting the earth with the power of the elements. when a fourteen-year-old girl is given two mysterious gifts from a father she never knew, she is drawn into their dangerous world of magic. she must learn to wield the power of the eleventh elementum to survive. with the help of will (her best friend), his cousin and her new stepsister, she seeks out the evil that threatens new zealand. but a black...</td>\n",
              "      <td>YA</td>\n",
              "    </tr>\n",
              "    <tr>\n",
              "      <th>5197</th>\n",
              "      <td>Destiny (Destiny, #1)</td>\n",
              "      <td>Deborah Ann</td>\n",
              "      <td>danielle kennedy is not one to believe in fairy tale love or destiny holding a plan for the future, nor does she believe in mythical legends, vampires, or spirits...at sixteen, athletic, honor student danielle has her life planned out: study hard, play soccer even harder, and slide through high school under the radar. it was a good plan, a solid plan, one thats worked so far; until cayden bridwellthe longtime shy and brainy classmate she has ignoredrides in on his motorcycle and obliterates her plans. now, life as danielle knows it, will never be the same.wealthy caydenonly recently coming...</td>\n",
              "      <td>YA</td>\n",
              "    </tr>\n",
              "    <tr>\n",
              "      <th>5198</th>\n",
              "      <td>System Purge (Digital Evolution, #1)</td>\n",
              "      <td>Ross Willard</td>\n",
              "      <td>fourteen-year-old tommy philips doesnt know where he comes from. he has questions that his foster parents cant answer, questions about who he is and what makes him so different from everyone around him. when he stumbles across evidence that one of his teachers has been guarding him for years, tommy begins an investigation that will uncover a history he never could have guessed.rowan darren wasnt just born to be a soldier, he was made to be one. the nospious, a collection of twelve houses of genetically-engineered humans, live in silent conflict, fighting quiet political wars against each o...</td>\n",
              "      <td>YA</td>\n",
              "    </tr>\n",
              "  </tbody>\n",
              "</table>\n",
              "</div>"
            ],
            "text/plain": [
              "                                                  title             author  \\\n",
              "5191    The Devil's Triangle (The Devil's Triangle, #1)      Toni De Palma   \n",
              "5193             TRANSITION, The Chimera Hunters Series  Megan S. Johnston   \n",
              "5196  Eleventh Elementum (The Primortus Chronicles, #1)          J.L. Bond   \n",
              "5197                              Destiny (Destiny, #1)        Deborah Ann   \n",
              "5198               System Purge (Digital Evolution, #1)       Ross Willard   \n",
              "\n",
              "                                                                                                                                                                                                                                                                                                                                                                                                                                                                                                                                                                                                                  description  \\\n",
              "5191  when year old cooper dies in an attempt to burn down his school, he finds himself in the afterlife. lucy, the devil sister who has crossed party lines, decides to give cooper another shot at heaven. the deal? cooper returns to earth and has to find a girl named grace. the rest is up to him.while cooper figures out his mission, he thrown into the life he always wanted. great parents, a spot on the varsity football team and a real future are all within reach. but what he really wants is grace, a feisty girl with an abusive boyfriend who can pound cooper into pulp if he doesn watch out.while ...   \n",
              "5193  the chimera are a race so old, the humans relegated them as a myth. the gods feared the chimeras powers; they believed they were a deadly race, with physical abilities beyond belief. so, they split their race in half condemning them to wander the earth, searching for their other half to be complete. without their sodalis, each was destined to live life without dreams, without love, without hope. the future rested on finding their one true mate for life. shelby oneil has led a solitary life with her parents. so when she goes to school at washington state university, she believes her life ha...   \n",
              "5196  it has begun! fourteen years after a catastrophic disaster, the world has regained its balance with the help of the primortus. they have secretly walked amongst us since the beginning of time, protecting the earth with the power of the elements. when a fourteen-year-old girl is given two mysterious gifts from a father she never knew, she is drawn into their dangerous world of magic. she must learn to wield the power of the eleventh elementum to survive. with the help of will (her best friend), his cousin and her new stepsister, she seeks out the evil that threatens new zealand. but a black...   \n",
              "5197  danielle kennedy is not one to believe in fairy tale love or destiny holding a plan for the future, nor does she believe in mythical legends, vampires, or spirits...at sixteen, athletic, honor student danielle has her life planned out: study hard, play soccer even harder, and slide through high school under the radar. it was a good plan, a solid plan, one thats worked so far; until cayden bridwellthe longtime shy and brainy classmate she has ignoredrides in on his motorcycle and obliterates her plans. now, life as danielle knows it, will never be the same.wealthy caydenonly recently coming...   \n",
              "5198  fourteen-year-old tommy philips doesnt know where he comes from. he has questions that his foster parents cant answer, questions about who he is and what makes him so different from everyone around him. when he stumbles across evidence that one of his teachers has been guarding him for years, tommy begins an investigation that will uncover a history he never could have guessed.rowan darren wasnt just born to be a soldier, he was made to be one. the nospious, a collection of twelve houses of genetically-engineered humans, live in silent conflict, fighting quiet political wars against each o...   \n",
              "\n",
              "     genre  \n",
              "5191    YA  \n",
              "5193    YA  \n",
              "5196    YA  \n",
              "5197    YA  \n",
              "5198    YA  "
            ]
          },
          "metadata": {
            "tags": []
          },
          "execution_count": 5
        }
      ]
    },
    {
      "cell_type": "markdown",
      "metadata": {
        "id": "g4njivZ2QlB0"
      },
      "source": [
        "# AI Setup"
      ]
    },
    {
      "cell_type": "code",
      "metadata": {
        "colab": {
          "base_uri": "https://localhost:8080/",
          "height": 74
        },
        "id": "SD_lKsbwN6RW",
        "outputId": "1adc338f-2ac7-4340-e046-a07271d587ca"
      },
      "source": [
        "dls = TextDataLoaders.from_df(data, text_col='description', label_col='genre')"
      ],
      "execution_count": 6,
      "outputs": [
        {
          "output_type": "display_data",
          "data": {
            "text/html": [
              ""
            ],
            "text/plain": [
              "<IPython.core.display.HTML object>"
            ]
          },
          "metadata": {
            "tags": []
          }
        },
        {
          "output_type": "stream",
          "text": [
            "/usr/local/lib/python3.7/dist-packages/numpy/core/_asarray.py:83: VisibleDeprecationWarning: Creating an ndarray from ragged nested sequences (which is a list-or-tuple of lists-or-tuples-or ndarrays with different lengths or shapes) is deprecated. If you meant to do this, you must specify 'dtype=object' when creating the ndarray\n",
            "  return array(a, dtype, copy=False, order=order)\n"
          ],
          "name": "stderr"
        }
      ]
    },
    {
      "cell_type": "code",
      "metadata": {
        "colab": {
          "base_uri": "https://localhost:8080/",
          "height": 404
        },
        "id": "RyzeGvHrRIv0",
        "outputId": "dba4e8d5-fcf7-492f-f7ef-83d965d9abf8"
      },
      "source": [
        "dls.show_batch(max_n=3)\r\n",
        "\r\n",
        "# We can see that the library automatically processed all the texts to split then in tokens, adding some special tokens like:\r\n",
        "\r\n",
        "#     xxbos to indicate the beginning of a text\r\n",
        "#     xxmaj to indicate the next word was capitalized\r\n"
      ],
      "execution_count": 7,
      "outputs": [
        {
          "output_type": "display_data",
          "data": {
            "text/html": [
              "<table border=\"1\" class=\"dataframe\">\n",
              "  <thead>\n",
              "    <tr style=\"text-align: right;\">\n",
              "      <th></th>\n",
              "      <th>text</th>\n",
              "      <th>category</th>\n",
              "    </tr>\n",
              "  </thead>\n",
              "  <tbody>\n",
              "    <tr>\n",
              "      <th>0</th>\n",
              "      <td>xxbos spiritus mundi by robert sheppard , nominated for the prestigious pushcart prize for literature , consists of spiritus mundi , the xxunk i , and spiritus mundi , the romancebook ii . book is espionage - terror - political - religious thriller - action criss - crosses the globe from beijing to london to washington , mexico city and jerusalem presenting a vast panorama of the contemporary international world , including compelling action , deep and realistic characters and surreal adventures , while book ii xxunk the setting and scope into a fantasy ( though still rooted in the real ) adventure where the protagonists embark on a quest to the realms of middle earth and its crystal bead game and through a wormhole to the council of the immortals in the amphitheater in the center of the milky way galaxy in search of the crucial silmaril crystal ,</td>\n",
              "      <td>sicfi</td>\n",
              "    </tr>\n",
              "    <tr>\n",
              "      <th>1</th>\n",
              "      <td>xxbos spiritus mundi by robert sheppard , nominated for the prestigious pushcart prize for literature , consists of spiritus mundi , the xxunk i , and spiritus mundi , the romancebook ii . book is espionage - terror - political - religious thriller - action criss - crosses the globe from beijing to london to washington , mexico city and jerusalem presenting a vast panorama of the contemporary international world , including compelling action , deep and realistic characters and surreal adventures , while book ii xxunk the setting and scope into a fantasy ( though still rooted in the real ) adventure where the protagonists embark on a quest to the realms of middle earth and its crystal bead game and through a wormhole to the council of the immortals in the amphitheater in the center of the milky way galaxy in search of the crucial silmaril crystal ,</td>\n",
              "      <td>sicfi</td>\n",
              "    </tr>\n",
              "    <tr>\n",
              "      <th>2</th>\n",
              "      <td>xxbos xxunk description : danny xxunk is an average thirteen - year - old who finds himself at the beginning of his eighth - grade year , struggling with some of the more common concerns that plague a boy of his age : bullies , homework , and his mother . sabrina drake is the new girl . she is beautiful and spellbinding , but carries a fantastic xxunk into the white rock academy of illumination , a school for young squires destined to become knights of the light and battle the forces of the dark with magical weapons called xxunk , danny joins his five closest friends in the training of their lives . honed in the techniques of blade work by an xxunk xxunk and educated by a colorful assortment of knightly instructors , danny and his friends are placed on the path to becoming knighted members of</td>\n",
              "      <td>YA</td>\n",
              "    </tr>\n",
              "  </tbody>\n",
              "</table>"
            ],
            "text/plain": [
              "<IPython.core.display.HTML object>"
            ]
          },
          "metadata": {
            "tags": []
          }
        }
      ]
    },
    {
      "cell_type": "code",
      "metadata": {
        "colab": {
          "base_uri": "https://localhost:8080/",
          "height": 17
        },
        "id": "ZmthgNkJRn4_",
        "outputId": "faef34ed-974a-45ca-e374-6fe1407d59f5"
      },
      "source": [
        "learn = text_classifier_learner(dls, AWD_LSTM, drop_mult=0.5, metrics=accuracy)"
      ],
      "execution_count": 8,
      "outputs": [
        {
          "output_type": "display_data",
          "data": {
            "text/html": [
              ""
            ],
            "text/plain": [
              "<IPython.core.display.HTML object>"
            ]
          },
          "metadata": {
            "tags": []
          }
        }
      ]
    },
    {
      "cell_type": "code",
      "metadata": {
        "colab": {
          "base_uri": "https://localhost:8080/",
          "height": 239
        },
        "id": "bwVnt4xeRy6u",
        "outputId": "d2b32d22-cc10-4f47-ba5d-a98d94253bae"
      },
      "source": [
        "learn.fine_tune(4, 1e-2)"
      ],
      "execution_count": 9,
      "outputs": [
        {
          "output_type": "display_data",
          "data": {
            "text/html": [
              "<table border=\"1\" class=\"dataframe\">\n",
              "  <thead>\n",
              "    <tr style=\"text-align: left;\">\n",
              "      <th>epoch</th>\n",
              "      <th>train_loss</th>\n",
              "      <th>valid_loss</th>\n",
              "      <th>accuracy</th>\n",
              "      <th>time</th>\n",
              "    </tr>\n",
              "  </thead>\n",
              "  <tbody>\n",
              "    <tr>\n",
              "      <td>0</td>\n",
              "      <td>0.807797</td>\n",
              "      <td>0.774422</td>\n",
              "      <td>0.662385</td>\n",
              "      <td>00:31</td>\n",
              "    </tr>\n",
              "  </tbody>\n",
              "</table>"
            ],
            "text/plain": [
              "<IPython.core.display.HTML object>"
            ]
          },
          "metadata": {
            "tags": []
          }
        },
        {
          "output_type": "display_data",
          "data": {
            "text/html": [
              "<table border=\"1\" class=\"dataframe\">\n",
              "  <thead>\n",
              "    <tr style=\"text-align: left;\">\n",
              "      <th>epoch</th>\n",
              "      <th>train_loss</th>\n",
              "      <th>valid_loss</th>\n",
              "      <th>accuracy</th>\n",
              "      <th>time</th>\n",
              "    </tr>\n",
              "  </thead>\n",
              "  <tbody>\n",
              "    <tr>\n",
              "      <td>0</td>\n",
              "      <td>0.743816</td>\n",
              "      <td>0.762790</td>\n",
              "      <td>0.679816</td>\n",
              "      <td>01:18</td>\n",
              "    </tr>\n",
              "    <tr>\n",
              "      <td>1</td>\n",
              "      <td>0.684567</td>\n",
              "      <td>0.695924</td>\n",
              "      <td>0.692202</td>\n",
              "      <td>01:16</td>\n",
              "    </tr>\n",
              "    <tr>\n",
              "      <td>2</td>\n",
              "      <td>0.609107</td>\n",
              "      <td>0.705413</td>\n",
              "      <td>0.695872</td>\n",
              "      <td>01:17</td>\n",
              "    </tr>\n",
              "    <tr>\n",
              "      <td>3</td>\n",
              "      <td>0.547217</td>\n",
              "      <td>0.718619</td>\n",
              "      <td>0.693578</td>\n",
              "      <td>01:17</td>\n",
              "    </tr>\n",
              "  </tbody>\n",
              "</table>"
            ],
            "text/plain": [
              "<IPython.core.display.HTML object>"
            ]
          },
          "metadata": {
            "tags": []
          }
        }
      ]
    },
    {
      "cell_type": "code",
      "metadata": {
        "id": "FoBY4zU7VEtd"
      },
      "source": [
        "learn.export()"
      ],
      "execution_count": 10,
      "outputs": []
    },
    {
      "cell_type": "markdown",
      "metadata": {
        "id": "sicBVlHEfSme"
      },
      "source": [
        "# App\r\n",
        "\r\n",
        "To test, the learner, we provide this sample book description:\r\n",
        "<br>\r\n",
        "<br>\r\n",
        "When Abby signs up for a DNA service, it’s mainly to give her friend and secret love interest, Leo, a nudge. After all, she knows who she is already: Avid photographer. Injury-prone tree climber. Best friend to Leo and Connie…although ever since the B.E.I. (Big Embarrassing Incident) with Leo, things have been awkward on that front. But she didn’t know she’s a younger sister. When the DNA service reveals Abby has a secret sister, shimmery-haired Instagram star Savannah Tully, it’s hard to believe they’re from the same planet, never mind the same parents — especially considering Savannah, queen of green smoothies, is only a year and a half older than Abby herself. The logical course of action? Meet up at summer camp (obviously) and figure out why Abby’s parents gave Savvy up for adoption. But there are complications: Savvy is a rigid rule-follower and total narc. Leo is the camp’s co-chef, putting Abby's growing feelings for him on blast. And her parents have a secret that threatens to unravel everything. But part of life is showing up, leaning in, and learning to fit all your awkward pieces together. Because sometimes, the hardest things can also be the best ones.\r\n",
        "<br>\r\n",
        "<br>\r\n",
        " From https://www.goodreads.com/book/show/53138158-you-have-a-match"
      ]
    },
    {
      "cell_type": "code",
      "metadata": {
        "id": "BQAubuVmh1Ny"
      },
      "source": [
        "def callback(wdgt):\r\n",
        "    # replace by something useful\r\n",
        "    print(wdgt.value)"
      ],
      "execution_count": 3,
      "outputs": []
    },
    {
      "cell_type": "code",
      "metadata": {
        "id": "756g_0pCfkDT"
      },
      "source": [
        "#load learner\r\n",
        "learn_inf = load_learner('export.pkl')"
      ],
      "execution_count": 4,
      "outputs": []
    },
    {
      "cell_type": "code",
      "metadata": {
        "colab": {
          "base_uri": "https://localhost:8080/",
          "height": 88,
          "referenced_widgets": [
            "7cf836c4b1ea4f6ebc77cf20b6bee763",
            "b9190975c16846c0a0f7ff7cafae501f",
            "95ac45bf6ff64079a106fa0df5fbe9c0"
          ]
        },
        "id": "6i2g3q69fWIS",
        "outputId": "d1cb6b9d-d6b3-46b2-e939-94bdbf002ea3"
      },
      "source": [
        "#define widget for interactivity\r\n",
        "book_desc = widgets.Text(\r\n",
        "    value='Type in a book description!',\r\n",
        "    placeholder='Type something',\r\n",
        "    description='Input:',\r\n",
        "    disabled=False\r\n",
        ")\r\n",
        "display(book_desc)\r\n",
        "book_desc.on_submit(callback)"
      ],
      "execution_count": 5,
      "outputs": [
        {
          "output_type": "display_data",
          "data": {
            "application/vnd.jupyter.widget-view+json": {
              "model_id": "7cf836c4b1ea4f6ebc77cf20b6bee763",
              "version_minor": 0,
              "version_major": 2
            },
            "text/plain": [
              "Text(value='Type in a book description!', description='Input:', placeholder='Type something')"
            ]
          },
          "metadata": {
            "tags": []
          }
        },
        {
          "output_type": "stream",
          "text": [
            "When Abby signs up for a DNA service, it’s mainly to give her friend and secret love interest, Leo, a nudge. After all, she knows who she is already: Avid photographer. Injury-prone tree climber. Best friend to Leo and Connie…although ever since the B.E.I. (Big Embarrassing Incident) with Leo, things have been awkward on that front. But she didn’t know she’s a younger sister. When the DNA service reveals Abby has a secret sister, shimmery-haired Instagram star Savannah Tully, it’s hard to believe they’re from the same planet, never mind the same parents — especially considering Savannah, queen of green smoothies, is only a year and a half older than Abby herself. The logical course of action? Meet up at summer camp (obviously) and figure out why Abby’s parents gave Savvy up for adoption. But there are complications: Savvy is a rigid rule-follower and total narc. Leo is the camp’s co-chef, putting Abby's growing feelings for him on blast. And her parents have a secret that threatens to unravel everything. But part of life is showing up, leaning in, and learning to fit all your awkward pieces together. Because sometimes, the hardest things can also be the best ones.\n"
          ],
          "name": "stdout"
        }
      ]
    },
    {
      "cell_type": "code",
      "metadata": {
        "colab": {
          "base_uri": "https://localhost:8080/",
          "height": 17
        },
        "id": "ZtMFxPargqGr",
        "outputId": "0c3231ca-e61a-4ccd-8a07-0e48399e0efb"
      },
      "source": [
        "pred, pred_idx, probs = learn_inf.predict(book_desc.value)"
      ],
      "execution_count": 6,
      "outputs": [
        {
          "output_type": "display_data",
          "data": {
            "text/html": [
              ""
            ],
            "text/plain": [
              "<IPython.core.display.HTML object>"
            ]
          },
          "metadata": {
            "tags": []
          }
        }
      ]
    },
    {
      "cell_type": "code",
      "metadata": {
        "colab": {
          "base_uri": "https://localhost:8080/"
        },
        "id": "LAaTITrwkPnT",
        "outputId": "a2af5c00-1ab0-4986-c890-3e3c408eac42"
      },
      "source": [
        "print(f\"Our learner has predicted the books description to be of a {pred} book with probabilty {probs[pred_idx]}\")"
      ],
      "execution_count": 7,
      "outputs": [
        {
          "output_type": "stream",
          "text": [
            "Our learner has predicted the books description to be of a YA book with probabilty 0.9534489512443542\n"
          ],
          "name": "stdout"
        }
      ]
    }
  ]
}