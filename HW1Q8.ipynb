{
 "cells": [
  {
   "cell_type": "code",
   "execution_count": 1,
   "metadata": {
    "colab": {
     "base_uri": "https://localhost:8080/"
    },
    "id": "6Z4g8veCF_L2",
    "outputId": "f55c9795-a476-4b55-e9a3-6a079240c7ce"
   },
   "outputs": [],
   "source": [
    "# jupyter serverextension enable --sys-prefix voila "
   ]
  },
  {
   "cell_type": "code",
   "execution_count": 2,
   "metadata": {
    "id": "Mjj4eImeGhIl"
   },
   "outputs": [],
   "source": [
    "import fastbook\n",
    "import pandas as pd\n",
    "import re\n",
    "import bs4\n",
    "from fastai.text.all import *\n",
    "import ipywidgets as widgets"
   ]
  },
  {
   "cell_type": "markdown",
   "metadata": {
    "id": "28v9Z7_rQCd-"
   },
   "source": [
    "# Getting Data + Processing"
   ]
  },
  {
   "cell_type": "code",
   "execution_count": 3,
   "metadata": {
    "id": "mcz1_aTMGigZ"
   },
   "outputs": [],
   "source": [
    "def text_processing(x): #cleans up the description text\n",
    "  \n",
    "  x = x.lower()\n",
    "  x = bs4.BeautifulSoup(x, \"lxml\").text\n",
    "  x = x.encode('ascii', 'ignore').decode()\n",
    "  x = re.sub(r'https*\\S+', ' ', x)\n",
    "  x = re.sub(r'@\\S+', ' ', x)\n",
    "  x = re.sub(r'#\\S+', ' ', x)\n",
    "  x = re.sub(r'\\'\\w+', '', x)\n",
    "  x = re.sub(r'\\w*\\d+\\w*', '', x)\n",
    "  x = re.sub(r'\\s{2,}', ' ', x)\n",
    "  return x \n",
    "\n",
    "def read_df(filename, genre): #reads the data from 3 different files\n",
    "\n",
    "  df = pd.read_csv(filename, index_col=0)\n",
    "  df.drop(df.index[df['language'] != 'eng'], inplace=True) #keeps only english \n",
    "  df.dropna(subset=['description'], inplace=True) # drops if no description\n",
    "\n",
    "  cols_to_keep = ['title', 'author', 'description']\n",
    "  df = df[cols_to_keep]\n",
    "\n",
    "  df['description'] = df.description.apply(text_processing)\n",
    "  df['genre'] = genre\n",
    "\n",
    "  return df\n",
    "\n"
   ]
  },
  {
   "cell_type": "code",
   "execution_count": 4,
   "metadata": {
    "id": "E2S3UFDKGxsy"
   },
   "outputs": [],
   "source": [
    "# read data\n",
    "\n",
    "data = pd.DataFrame()\n",
    "data_genre = {'mystery': 'gr_df_mystery.csv',\n",
    "              'sicfi': 'gr_df_sf.csv',\n",
    "              'YA': 'gr_df_ya.csv'}\n",
    "\n",
    "for genre, filename in data_genre.items():\n",
    "\n",
    "  df = read_df(filename, genre)\n",
    "  data = pd.concat([data, df])\n"
   ]
  },
  {
   "cell_type": "code",
   "execution_count": 5,
   "metadata": {
    "colab": {
     "base_uri": "https://localhost:8080/",
     "height": 640
    },
    "id": "pAiuAGXtM3bA",
    "outputId": "bedecb59-96e0-4c50-f5a7-ad6f265f2982"
   },
   "outputs": [
    {
     "data": {
      "text/html": [
       "<div>\n",
       "<style scoped>\n",
       "    .dataframe tbody tr th:only-of-type {\n",
       "        vertical-align: middle;\n",
       "    }\n",
       "\n",
       "    .dataframe tbody tr th {\n",
       "        vertical-align: top;\n",
       "    }\n",
       "\n",
       "    .dataframe thead th {\n",
       "        text-align: right;\n",
       "    }\n",
       "</style>\n",
       "<table border=\"1\" class=\"dataframe\">\n",
       "  <thead>\n",
       "    <tr style=\"text-align: right;\">\n",
       "      <th></th>\n",
       "      <th>title</th>\n",
       "      <th>author</th>\n",
       "      <th>description</th>\n",
       "      <th>genre</th>\n",
       "    </tr>\n",
       "  </thead>\n",
       "  <tbody>\n",
       "    <tr>\n",
       "      <th>5191</th>\n",
       "      <td>The Devil's Triangle (The Devil's Triangle, #1)</td>\n",
       "      <td>Toni De Palma</td>\n",
       "      <td>when year old cooper dies in an attempt to burn down his school, he finds himself in the afterlife. lucy, the devil sister who has crossed party lines, decides to give cooper another shot at heaven. the deal? cooper returns to earth and has to find a girl named grace. the rest is up to him.while cooper figures out his mission, he thrown into the life he always wanted. great parents, a spot on the varsity football team and a real future are all within reach. but what he really wants is grace, a feisty girl with an abusive boyfriend who can pound cooper into pulp if he doesn watch out.while ...</td>\n",
       "      <td>YA</td>\n",
       "    </tr>\n",
       "    <tr>\n",
       "      <th>5193</th>\n",
       "      <td>TRANSITION, The Chimera Hunters Series</td>\n",
       "      <td>Megan S. Johnston</td>\n",
       "      <td>the chimera are a race so old, the humans relegated them as a myth. the gods feared the chimeras powers; they believed they were a deadly race, with physical abilities beyond belief. so, they split their race in half condemning them to wander the earth, searching for their other half to be complete. without their sodalis, each was destined to live life without dreams, without love, without hope. the future rested on finding their one true mate for life. shelby oneil has led a solitary life with her parents. so when she goes to school at washington state university, she believes her life ha...</td>\n",
       "      <td>YA</td>\n",
       "    </tr>\n",
       "    <tr>\n",
       "      <th>5196</th>\n",
       "      <td>Eleventh Elementum (The Primortus Chronicles, #1)</td>\n",
       "      <td>J.L. Bond</td>\n",
       "      <td>it has begun! fourteen years after a catastrophic disaster, the world has regained its balance with the help of the primortus. they have secretly walked amongst us since the beginning of time, protecting the earth with the power of the elements. when a fourteen-year-old girl is given two mysterious gifts from a father she never knew, she is drawn into their dangerous world of magic. she must learn to wield the power of the eleventh elementum to survive. with the help of will (her best friend), his cousin and her new stepsister, she seeks out the evil that threatens new zealand. but a black...</td>\n",
       "      <td>YA</td>\n",
       "    </tr>\n",
       "    <tr>\n",
       "      <th>5197</th>\n",
       "      <td>Destiny (Destiny, #1)</td>\n",
       "      <td>Deborah Ann</td>\n",
       "      <td>danielle kennedy is not one to believe in fairy tale love or destiny holding a plan for the future, nor does she believe in mythical legends, vampires, or spirits...at sixteen, athletic, honor student danielle has her life planned out: study hard, play soccer even harder, and slide through high school under the radar. it was a good plan, a solid plan, one thats worked so far; until cayden bridwellthe longtime shy and brainy classmate she has ignoredrides in on his motorcycle and obliterates her plans. now, life as danielle knows it, will never be the same.wealthy caydenonly recently coming...</td>\n",
       "      <td>YA</td>\n",
       "    </tr>\n",
       "    <tr>\n",
       "      <th>5198</th>\n",
       "      <td>System Purge (Digital Evolution, #1)</td>\n",
       "      <td>Ross Willard</td>\n",
       "      <td>fourteen-year-old tommy philips doesnt know where he comes from. he has questions that his foster parents cant answer, questions about who he is and what makes him so different from everyone around him. when he stumbles across evidence that one of his teachers has been guarding him for years, tommy begins an investigation that will uncover a history he never could have guessed.rowan darren wasnt just born to be a soldier, he was made to be one. the nospious, a collection of twelve houses of genetically-engineered humans, live in silent conflict, fighting quiet political wars against each o...</td>\n",
       "      <td>YA</td>\n",
       "    </tr>\n",
       "  </tbody>\n",
       "</table>\n",
       "</div>"
      ],
      "text/plain": [
       "                                                  title             author  \\\n",
       "5191    The Devil's Triangle (The Devil's Triangle, #1)      Toni De Palma   \n",
       "5193             TRANSITION, The Chimera Hunters Series  Megan S. Johnston   \n",
       "5196  Eleventh Elementum (The Primortus Chronicles, #1)          J.L. Bond   \n",
       "5197                              Destiny (Destiny, #1)        Deborah Ann   \n",
       "5198               System Purge (Digital Evolution, #1)       Ross Willard   \n",
       "\n",
       "                                                                                                                                                                                                                                                                                                                                                                                                                                                                                                                                                                                                                  description  \\\n",
       "5191  when year old cooper dies in an attempt to burn down his school, he finds himself in the afterlife. lucy, the devil sister who has crossed party lines, decides to give cooper another shot at heaven. the deal? cooper returns to earth and has to find a girl named grace. the rest is up to him.while cooper figures out his mission, he thrown into the life he always wanted. great parents, a spot on the varsity football team and a real future are all within reach. but what he really wants is grace, a feisty girl with an abusive boyfriend who can pound cooper into pulp if he doesn watch out.while ...   \n",
       "5193  the chimera are a race so old, the humans relegated them as a myth. the gods feared the chimeras powers; they believed they were a deadly race, with physical abilities beyond belief. so, they split their race in half condemning them to wander the earth, searching for their other half to be complete. without their sodalis, each was destined to live life without dreams, without love, without hope. the future rested on finding their one true mate for life. shelby oneil has led a solitary life with her parents. so when she goes to school at washington state university, she believes her life ha...   \n",
       "5196  it has begun! fourteen years after a catastrophic disaster, the world has regained its balance with the help of the primortus. they have secretly walked amongst us since the beginning of time, protecting the earth with the power of the elements. when a fourteen-year-old girl is given two mysterious gifts from a father she never knew, she is drawn into their dangerous world of magic. she must learn to wield the power of the eleventh elementum to survive. with the help of will (her best friend), his cousin and her new stepsister, she seeks out the evil that threatens new zealand. but a black...   \n",
       "5197  danielle kennedy is not one to believe in fairy tale love or destiny holding a plan for the future, nor does she believe in mythical legends, vampires, or spirits...at sixteen, athletic, honor student danielle has her life planned out: study hard, play soccer even harder, and slide through high school under the radar. it was a good plan, a solid plan, one thats worked so far; until cayden bridwellthe longtime shy and brainy classmate she has ignoredrides in on his motorcycle and obliterates her plans. now, life as danielle knows it, will never be the same.wealthy caydenonly recently coming...   \n",
       "5198  fourteen-year-old tommy philips doesnt know where he comes from. he has questions that his foster parents cant answer, questions about who he is and what makes him so different from everyone around him. when he stumbles across evidence that one of his teachers has been guarding him for years, tommy begins an investigation that will uncover a history he never could have guessed.rowan darren wasnt just born to be a soldier, he was made to be one. the nospious, a collection of twelve houses of genetically-engineered humans, live in silent conflict, fighting quiet political wars against each o...   \n",
       "\n",
       "     genre  \n",
       "5191    YA  \n",
       "5193    YA  \n",
       "5196    YA  \n",
       "5197    YA  \n",
       "5198    YA  "
      ]
     },
     "execution_count": 5,
     "metadata": {
      "tags": []
     },
     "output_type": "execute_result"
    }
   ],
   "source": [
    "data.tail()"
   ]
  },
  {
   "cell_type": "markdown",
   "metadata": {
    "id": "g4njivZ2QlB0"
   },
   "source": [
    "# AI Setup"
   ]
  },
  {
   "cell_type": "code",
   "execution_count": 6,
   "metadata": {
    "colab": {
     "base_uri": "https://localhost:8080/",
     "height": 74
    },
    "id": "SD_lKsbwN6RW",
    "outputId": "1adc338f-2ac7-4340-e046-a07271d587ca"
   },
   "outputs": [
    {
     "data": {
      "text/html": [],
      "text/plain": [
       "<IPython.core.display.HTML object>"
      ]
     },
     "metadata": {
      "tags": []
     },
     "output_type": "display_data"
    },
    {
     "name": "stderr",
     "output_type": "stream",
     "text": [
      "/usr/local/lib/python3.7/dist-packages/numpy/core/_asarray.py:83: VisibleDeprecationWarning: Creating an ndarray from ragged nested sequences (which is a list-or-tuple of lists-or-tuples-or ndarrays with different lengths or shapes) is deprecated. If you meant to do this, you must specify 'dtype=object' when creating the ndarray\n",
      "  return array(a, dtype, copy=False, order=order)\n"
     ]
    }
   ],
   "source": [
    "dls = TextDataLoaders.from_df(data, text_col='description', label_col='genre')"
   ]
  },
  {
   "cell_type": "code",
   "execution_count": 7,
   "metadata": {
    "colab": {
     "base_uri": "https://localhost:8080/",
     "height": 404
    },
    "id": "RyzeGvHrRIv0",
    "outputId": "dba4e8d5-fcf7-492f-f7ef-83d965d9abf8"
   },
   "outputs": [
    {
     "data": {
      "text/html": [
       "<table border=\"1\" class=\"dataframe\">\n",
       "  <thead>\n",
       "    <tr style=\"text-align: right;\">\n",
       "      <th></th>\n",
       "      <th>text</th>\n",
       "      <th>category</th>\n",
       "    </tr>\n",
       "  </thead>\n",
       "  <tbody>\n",
       "    <tr>\n",
       "      <th>0</th>\n",
       "      <td>xxbos spiritus mundi by robert sheppard , nominated for the prestigious pushcart prize for literature , consists of spiritus mundi , the xxunk i , and spiritus mundi , the romancebook ii . book is espionage - terror - political - religious thriller - action criss - crosses the globe from beijing to london to washington , mexico city and jerusalem presenting a vast panorama of the contemporary international world , including compelling action , deep and realistic characters and surreal adventures , while book ii xxunk the setting and scope into a fantasy ( though still rooted in the real ) adventure where the protagonists embark on a quest to the realms of middle earth and its crystal bead game and through a wormhole to the council of the immortals in the amphitheater in the center of the milky way galaxy in search of the crucial silmaril crystal ,</td>\n",
       "      <td>sicfi</td>\n",
       "    </tr>\n",
       "    <tr>\n",
       "      <th>1</th>\n",
       "      <td>xxbos spiritus mundi by robert sheppard , nominated for the prestigious pushcart prize for literature , consists of spiritus mundi , the xxunk i , and spiritus mundi , the romancebook ii . book is espionage - terror - political - religious thriller - action criss - crosses the globe from beijing to london to washington , mexico city and jerusalem presenting a vast panorama of the contemporary international world , including compelling action , deep and realistic characters and surreal adventures , while book ii xxunk the setting and scope into a fantasy ( though still rooted in the real ) adventure where the protagonists embark on a quest to the realms of middle earth and its crystal bead game and through a wormhole to the council of the immortals in the amphitheater in the center of the milky way galaxy in search of the crucial silmaril crystal ,</td>\n",
       "      <td>sicfi</td>\n",
       "    </tr>\n",
       "    <tr>\n",
       "      <th>2</th>\n",
       "      <td>xxbos xxunk description : danny xxunk is an average thirteen - year - old who finds himself at the beginning of his eighth - grade year , struggling with some of the more common concerns that plague a boy of his age : bullies , homework , and his mother . sabrina drake is the new girl . she is beautiful and spellbinding , but carries a fantastic xxunk into the white rock academy of illumination , a school for young squires destined to become knights of the light and battle the forces of the dark with magical weapons called xxunk , danny joins his five closest friends in the training of their lives . honed in the techniques of blade work by an xxunk xxunk and educated by a colorful assortment of knightly instructors , danny and his friends are placed on the path to becoming knighted members of</td>\n",
       "      <td>YA</td>\n",
       "    </tr>\n",
       "  </tbody>\n",
       "</table>"
      ],
      "text/plain": [
       "<IPython.core.display.HTML object>"
      ]
     },
     "metadata": {
      "tags": []
     },
     "output_type": "display_data"
    }
   ],
   "source": [
    "dls.show_batch(max_n=3)\n",
    "\n",
    "# We can see that the library automatically processed all the texts to split then in tokens, adding some special tokens like:\n",
    "\n",
    "#     xxbos to indicate the beginning of a text\n",
    "#     xxmaj to indicate the next word was capitalized\n"
   ]
  },
  {
   "cell_type": "code",
   "execution_count": 8,
   "metadata": {
    "colab": {
     "base_uri": "https://localhost:8080/",
     "height": 17
    },
    "id": "ZmthgNkJRn4_",
    "outputId": "faef34ed-974a-45ca-e374-6fe1407d59f5"
   },
   "outputs": [
    {
     "data": {
      "text/html": [],
      "text/plain": [
       "<IPython.core.display.HTML object>"
      ]
     },
     "metadata": {
      "tags": []
     },
     "output_type": "display_data"
    }
   ],
   "source": [
    "learn = text_classifier_learner(dls, AWD_LSTM, drop_mult=0.5, metrics=accuracy)"
   ]
  },
  {
   "cell_type": "code",
   "execution_count": 9,
   "metadata": {
    "colab": {
     "base_uri": "https://localhost:8080/",
     "height": 239
    },
    "id": "bwVnt4xeRy6u",
    "outputId": "d2b32d22-cc10-4f47-ba5d-a98d94253bae"
   },
   "outputs": [
    {
     "data": {
      "text/html": [
       "<table border=\"1\" class=\"dataframe\">\n",
       "  <thead>\n",
       "    <tr style=\"text-align: left;\">\n",
       "      <th>epoch</th>\n",
       "      <th>train_loss</th>\n",
       "      <th>valid_loss</th>\n",
       "      <th>accuracy</th>\n",
       "      <th>time</th>\n",
       "    </tr>\n",
       "  </thead>\n",
       "  <tbody>\n",
       "    <tr>\n",
       "      <td>0</td>\n",
       "      <td>0.807797</td>\n",
       "      <td>0.774422</td>\n",
       "      <td>0.662385</td>\n",
       "      <td>00:31</td>\n",
       "    </tr>\n",
       "  </tbody>\n",
       "</table>"
      ],
      "text/plain": [
       "<IPython.core.display.HTML object>"
      ]
     },
     "metadata": {
      "tags": []
     },
     "output_type": "display_data"
    },
    {
     "data": {
      "text/html": [
       "<table border=\"1\" class=\"dataframe\">\n",
       "  <thead>\n",
       "    <tr style=\"text-align: left;\">\n",
       "      <th>epoch</th>\n",
       "      <th>train_loss</th>\n",
       "      <th>valid_loss</th>\n",
       "      <th>accuracy</th>\n",
       "      <th>time</th>\n",
       "    </tr>\n",
       "  </thead>\n",
       "  <tbody>\n",
       "    <tr>\n",
       "      <td>0</td>\n",
       "      <td>0.743816</td>\n",
       "      <td>0.762790</td>\n",
       "      <td>0.679816</td>\n",
       "      <td>01:18</td>\n",
       "    </tr>\n",
       "    <tr>\n",
       "      <td>1</td>\n",
       "      <td>0.684567</td>\n",
       "      <td>0.695924</td>\n",
       "      <td>0.692202</td>\n",
       "      <td>01:16</td>\n",
       "    </tr>\n",
       "    <tr>\n",
       "      <td>2</td>\n",
       "      <td>0.609107</td>\n",
       "      <td>0.705413</td>\n",
       "      <td>0.695872</td>\n",
       "      <td>01:17</td>\n",
       "    </tr>\n",
       "    <tr>\n",
       "      <td>3</td>\n",
       "      <td>0.547217</td>\n",
       "      <td>0.718619</td>\n",
       "      <td>0.693578</td>\n",
       "      <td>01:17</td>\n",
       "    </tr>\n",
       "  </tbody>\n",
       "</table>"
      ],
      "text/plain": [
       "<IPython.core.display.HTML object>"
      ]
     },
     "metadata": {
      "tags": []
     },
     "output_type": "display_data"
    }
   ],
   "source": [
    "learn.fine_tune(4, 1e-2)"
   ]
  },
  {
   "cell_type": "code",
   "execution_count": 10,
   "metadata": {
    "id": "FoBY4zU7VEtd"
   },
   "outputs": [],
   "source": [
    "learn.export()"
   ]
  },
  {
   "cell_type": "markdown",
   "metadata": {
    "id": "sicBVlHEfSme"
   },
   "source": [
    "# App\n",
    "\n",
    "To test, the learner, we provide this sample book description:\n",
    "<br>\n",
    "<br>\n",
    "When Abby signs up for a DNA service, it’s mainly to give her friend and secret love interest, Leo, a nudge. After all, she knows who she is already: Avid photographer. Injury-prone tree climber. Best friend to Leo and Connie…although ever since the B.E.I. (Big Embarrassing Incident) with Leo, things have been awkward on that front. But she didn’t know she’s a younger sister. When the DNA service reveals Abby has a secret sister, shimmery-haired Instagram star Savannah Tully, it’s hard to believe they’re from the same planet, never mind the same parents — especially considering Savannah, queen of green smoothies, is only a year and a half older than Abby herself. The logical course of action? Meet up at summer camp (obviously) and figure out why Abby’s parents gave Savvy up for adoption. But there are complications: Savvy is a rigid rule-follower and total narc. Leo is the camp’s co-chef, putting Abby's growing feelings for him on blast. And her parents have a secret that threatens to unravel everything. But part of life is showing up, leaning in, and learning to fit all your awkward pieces together. Because sometimes, the hardest things can also be the best ones.\n",
    "<br>\n",
    "<br>\n",
    " From https://www.goodreads.com/book/show/53138158-you-have-a-match"
   ]
  },
  {
   "cell_type": "code",
   "execution_count": 3,
   "metadata": {
    "id": "BQAubuVmh1Ny"
   },
   "outputs": [],
   "source": [
    "def callback(wdgt):\n",
    "    # replace by something useful\n",
    "    print(wdgt.value)"
   ]
  },
  {
   "cell_type": "code",
   "execution_count": 4,
   "metadata": {
    "id": "756g_0pCfkDT"
   },
   "outputs": [],
   "source": [
    "#load learner\n",
    "learn_inf = load_learner('export.pkl')"
   ]
  },
  {
   "cell_type": "code",
   "execution_count": 5,
   "metadata": {
    "colab": {
     "base_uri": "https://localhost:8080/",
     "height": 88,
     "referenced_widgets": [
      "7cf836c4b1ea4f6ebc77cf20b6bee763",
      "b9190975c16846c0a0f7ff7cafae501f",
      "95ac45bf6ff64079a106fa0df5fbe9c0"
     ]
    },
    "id": "6i2g3q69fWIS",
    "outputId": "d1cb6b9d-d6b3-46b2-e939-94bdbf002ea3"
   },
   "outputs": [
    {
     "data": {
      "application/vnd.jupyter.widget-view+json": {
       "model_id": "7cf836c4b1ea4f6ebc77cf20b6bee763",
       "version_major": 2,
       "version_minor": 0
      },
      "text/plain": [
       "Text(value='Type in a book description!', description='Input:', placeholder='Type something')"
      ]
     },
     "metadata": {
      "tags": []
     },
     "output_type": "display_data"
    },
    {
     "name": "stdout",
     "output_type": "stream",
     "text": [
      "When Abby signs up for a DNA service, it’s mainly to give her friend and secret love interest, Leo, a nudge. After all, she knows who she is already: Avid photographer. Injury-prone tree climber. Best friend to Leo and Connie…although ever since the B.E.I. (Big Embarrassing Incident) with Leo, things have been awkward on that front. But she didn’t know she’s a younger sister. When the DNA service reveals Abby has a secret sister, shimmery-haired Instagram star Savannah Tully, it’s hard to believe they’re from the same planet, never mind the same parents — especially considering Savannah, queen of green smoothies, is only a year and a half older than Abby herself. The logical course of action? Meet up at summer camp (obviously) and figure out why Abby’s parents gave Savvy up for adoption. But there are complications: Savvy is a rigid rule-follower and total narc. Leo is the camp’s co-chef, putting Abby's growing feelings for him on blast. And her parents have a secret that threatens to unravel everything. But part of life is showing up, leaning in, and learning to fit all your awkward pieces together. Because sometimes, the hardest things can also be the best ones.\n"
     ]
    }
   ],
   "source": [
    "#define widget for interactivity\n",
    "book_desc = widgets.Text(\n",
    "    value='Type in a book description!',\n",
    "    placeholder='Type something',\n",
    "    description='Input:',\n",
    "    disabled=False\n",
    ")\n",
    "display(book_desc)\n",
    "book_desc.on_submit(callback)"
   ]
  },
  {
   "cell_type": "code",
   "execution_count": 6,
   "metadata": {
    "colab": {
     "base_uri": "https://localhost:8080/",
     "height": 17
    },
    "id": "ZtMFxPargqGr",
    "outputId": "0c3231ca-e61a-4ccd-8a07-0e48399e0efb"
   },
   "outputs": [
    {
     "data": {
      "text/html": [],
      "text/plain": [
       "<IPython.core.display.HTML object>"
      ]
     },
     "metadata": {
      "tags": []
     },
     "output_type": "display_data"
    }
   ],
   "source": [
    "pred, pred_idx, probs = learn_inf.predict(book_desc.value)"
   ]
  },
  {
   "cell_type": "code",
   "execution_count": 7,
   "metadata": {
    "colab": {
     "base_uri": "https://localhost:8080/"
    },
    "id": "LAaTITrwkPnT",
    "outputId": "a2af5c00-1ab0-4986-c890-3e3c408eac42"
   },
   "outputs": [
    {
     "name": "stdout",
     "output_type": "stream",
     "text": [
      "Our learner has predicted the books description to be of a YA book with probabilty 0.9534489512443542\n"
     ]
    }
   ],
   "source": [
    "print(f\"Our learner has predicted the books description to be of a {pred} book with probabilty {probs[pred_idx]}\")"
   ]
  }
 ],
 "metadata": {
  "accelerator": "GPU",
  "colab": {
   "collapsed_sections": [],
   "name": "HW1Q8.ipynb",
   "provenance": [],
   "toc_visible": true
  },
  "kernelspec": {
   "display_name": "Python 3",
   "language": "python",
   "name": "python3"
  },
  "language_info": {
   "codemirror_mode": {
    "name": "ipython",
    "version": 3
   },
   "file_extension": ".py",
   "mimetype": "text/x-python",
   "name": "python",
   "nbconvert_exporter": "python",
   "pygments_lexer": "ipython3",
   "version": "3.8.3"
  },
  "widgets": {
   "application/vnd.jupyter.widget-state+json": {
    "7cf836c4b1ea4f6ebc77cf20b6bee763": {
     "model_module": "@jupyter-widgets/controls",
     "model_name": "TextModel",
     "state": {
      "_dom_classes": [],
      "_model_module": "@jupyter-widgets/controls",
      "_model_module_version": "1.5.0",
      "_model_name": "TextModel",
      "_view_count": null,
      "_view_module": "@jupyter-widgets/controls",
      "_view_module_version": "1.5.0",
      "_view_name": "TextView",
      "continuous_update": true,
      "description": "Input:",
      "description_tooltip": null,
      "disabled": false,
      "layout": "IPY_MODEL_95ac45bf6ff64079a106fa0df5fbe9c0",
      "placeholder": "Type something",
      "style": "IPY_MODEL_b9190975c16846c0a0f7ff7cafae501f",
      "value": "When Abby signs up for a DNA service, it’s mainly to give her friend and secret love interest, Leo, a nudge. After all, she knows who she is already: Avid photographer. Injury-prone tree climber. Best friend to Leo and Connie…although ever since the B.E.I. (Big Embarrassing Incident) with Leo, things have been awkward on that front. But she didn’t know she’s a younger sister. When the DNA service reveals Abby has a secret sister, shimmery-haired Instagram star Savannah Tully, it’s hard to believe they’re from the same planet, never mind the same parents — especially considering Savannah, queen of green smoothies, is only a year and a half older than Abby herself. The logical course of action? Meet up at summer camp (obviously) and figure out why Abby’s parents gave Savvy up for adoption. But there are complications: Savvy is a rigid rule-follower and total narc. Leo is the camp’s co-chef, putting Abby's growing feelings for him on blast. And her parents have a secret that threatens to unravel everything. But part of life is showing up, leaning in, and learning to fit all your awkward pieces together. Because sometimes, the hardest things can also be the best ones."
     }
    },
    "95ac45bf6ff64079a106fa0df5fbe9c0": {
     "model_module": "@jupyter-widgets/base",
     "model_name": "LayoutModel",
     "state": {
      "_model_module": "@jupyter-widgets/base",
      "_model_module_version": "1.2.0",
      "_model_name": "LayoutModel",
      "_view_count": null,
      "_view_module": "@jupyter-widgets/base",
      "_view_module_version": "1.2.0",
      "_view_name": "LayoutView",
      "align_content": null,
      "align_items": null,
      "align_self": null,
      "border": null,
      "bottom": null,
      "display": null,
      "flex": null,
      "flex_flow": null,
      "grid_area": null,
      "grid_auto_columns": null,
      "grid_auto_flow": null,
      "grid_auto_rows": null,
      "grid_column": null,
      "grid_gap": null,
      "grid_row": null,
      "grid_template_areas": null,
      "grid_template_columns": null,
      "grid_template_rows": null,
      "height": null,
      "justify_content": null,
      "justify_items": null,
      "left": null,
      "margin": null,
      "max_height": null,
      "max_width": null,
      "min_height": null,
      "min_width": null,
      "object_fit": null,
      "object_position": null,
      "order": null,
      "overflow": null,
      "overflow_x": null,
      "overflow_y": null,
      "padding": null,
      "right": null,
      "top": null,
      "visibility": null,
      "width": null
     }
    },
    "b9190975c16846c0a0f7ff7cafae501f": {
     "model_module": "@jupyter-widgets/controls",
     "model_name": "DescriptionStyleModel",
     "state": {
      "_model_module": "@jupyter-widgets/controls",
      "_model_module_version": "1.5.0",
      "_model_name": "DescriptionStyleModel",
      "_view_count": null,
      "_view_module": "@jupyter-widgets/base",
      "_view_module_version": "1.2.0",
      "_view_name": "StyleView",
      "description_width": ""
     }
    }
   }
  }
 },
 "nbformat": 4,
 "nbformat_minor": 1
}
